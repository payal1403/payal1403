{
  "nbformat": 4,
  "nbformat_minor": 0,
  "metadata": {
    "colab": {
      "provenance": [],
      "authorship_tag": "ABX9TyNOHEzzF0c2mgdcpRwuUh4Y",
      "include_colab_link": true
    },
    "kernelspec": {
      "name": "python3",
      "display_name": "Python 3"
    },
    "language_info": {
      "name": "python"
    }
  },
  "cells": [
    {
      "cell_type": "markdown",
      "metadata": {
        "id": "view-in-github",
        "colab_type": "text"
      },
      "source": [
        "<a href=\"https://colab.research.google.com/github/payal1403/payal1403/blob/pythonfile/greater.ipynb\" target=\"_parent\"><img src=\"https://colab.research.google.com/assets/colab-badge.svg\" alt=\"Open In Colab\"/></a>"
      ]
    },
    {
      "cell_type": "code",
      "execution_count": null,
      "metadata": {
        "colab": {
          "base_uri": "https://localhost:8080/"
        },
        "id": "yKB1j19V37Fe",
        "outputId": "beca1665-58a5-4f78-ffe4-b459324a74a4"
      },
      "outputs": [
        {
          "output_type": "stream",
          "name": "stdout",
          "text": [
            "enter a value50\n",
            "<class 'str'>\n",
            "enter a value20\n",
            "sum of a and b is 70\n"
          ]
        }
      ],
      "source": [
        "a=input('enter a value')\n",
        "print(type(a))\n",
        "a=int(a)\n",
        "\n",
        "b=input('enter a value')\n",
        "b=int(b)\n",
        "c=a+b\n",
        "print(\"sum of a and b is\",c)"
      ]
    },
    {
      "cell_type": "code",
      "source": [
        "a=input(\"enter a value:\")\n",
        "a=int(a)\n",
        "b=input(\"enter a value:\")\n",
        "b=int(b)\n",
        "c=input(\"enter a value:\")\n",
        "c=int(c)\n",
        "if a>b and a>c:\n",
        " print(\"a is greater\")\n",
        "\n",
        "elif b>a and b>c:\n",
        "  print(\"b is greater\")\n",
        "\n",
        "elif c>a and c>b:\n",
        "   print(\"c is greater\")\n",
        "\n"
      ],
      "metadata": {
        "colab": {
          "base_uri": "https://localhost:8080/"
        },
        "id": "447mH_8Hvf82",
        "outputId": "504976c4-9088-4b7e-f749-c9428343076f"
      },
      "execution_count": 17,
      "outputs": [
        {
          "output_type": "stream",
          "name": "stdout",
          "text": [
            "enter a value:50\n",
            "enter a value:38\n",
            "enter a value:96\n",
            "c is greater\n"
          ]
        }
      ]
    }
  ]
}