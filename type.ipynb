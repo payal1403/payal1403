{
  "nbformat": 4,
  "nbformat_minor": 0,
  "metadata": {
    "colab": {
      "provenance": [],
      "authorship_tag": "ABX9TyN70EInEiPSku42N179rKKH",
      "include_colab_link": true
    },
    "kernelspec": {
      "name": "python3",
      "display_name": "Python 3"
    },
    "language_info": {
      "name": "python"
    }
  },
  "cells": [
    {
      "cell_type": "markdown",
      "metadata": {
        "id": "view-in-github",
        "colab_type": "text"
      },
      "source": [
        "<a href=\"https://colab.research.google.com/github/payal1403/payal1403/blob/pythonfile/type.ipynb\" target=\"_parent\"><img src=\"https://colab.research.google.com/assets/colab-badge.svg\" alt=\"Open In Colab\"/></a>"
      ]
    },
    {
      "cell_type": "code",
      "execution_count": 1,
      "metadata": {
        "colab": {
          "base_uri": "https://localhost:8080/"
        },
        "id": "yKB1j19V37Fe",
        "outputId": "beca1665-58a5-4f78-ffe4-b459324a74a4"
      },
      "outputs": [
        {
          "output_type": "stream",
          "name": "stdout",
          "text": [
            "enter a value50\n",
            "<class 'str'>\n",
            "enter a value20\n",
            "sum of a and b is 70\n"
          ]
        }
      ],
      "source": [
        "a=input('enter a value')\n",
        "print(type(a))\n",
        "a=int(a)\n",
        "\n",
        "b=input('enter a value')\n",
        "b=int(b)\n",
        "c=a+b\n",
        "print(\"sum of a and b is\",c)"
      ]
    }
  ]
}