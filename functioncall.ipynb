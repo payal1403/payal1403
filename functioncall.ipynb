{
  "nbformat": 4,
  "nbformat_minor": 0,
  "metadata": {
    "colab": {
      "provenance": [],
      "authorship_tag": "ABX9TyN0T9rO8tPtx5/jEoREyR0r",
      "include_colab_link": true
    },
    "kernelspec": {
      "name": "python3",
      "display_name": "Python 3"
    },
    "language_info": {
      "name": "python"
    }
  },
  "cells": [
    {
      "cell_type": "markdown",
      "metadata": {
        "id": "view-in-github",
        "colab_type": "text"
      },
      "source": [
        "<a href=\"https://colab.research.google.com/github/payal1403/payal1403/blob/pythonfile/functioncall.ipynb\" target=\"_parent\"><img src=\"https://colab.research.google.com/assets/colab-badge.svg\" alt=\"Open In Colab\"/></a>"
      ]
    },
    {
      "cell_type": "code",
      "execution_count": 20,
      "metadata": {
        "colab": {
          "base_uri": "https://localhost:8080/"
        },
        "id": "LaKjMLMuAT7Q",
        "outputId": "bdd5e18d-29a4-4fd7-b7b3-1d53a4b44e1e"
      },
      "outputs": [
        {
          "output_type": "stream",
          "name": "stdout",
          "text": [
            "enter a value:10\n",
            "enter a value:20\n",
            "30\n"
          ]
        }
      ],
      "source": [
        "\n",
        "def sum(num1,num2):\n",
        " c=num1+num2\n",
        " print(c)\n",
        "x=input('enter a value:')\n",
        "x=int(x)\n",
        "\n",
        "y=input('enter a value:')\n",
        "y=int(y)\n",
        "\n",
        "sum(x,y)\n",
        "\n",
        ""
      ]
    },
    {
      "cell_type": "code",
      "source": [],
      "metadata": {
        "id": "GIWhv56SFA0d"
      },
      "execution_count": null,
      "outputs": []
    },
    {
      "cell_type": "code",
      "source": [
        "def add(*arg):\n",
        "  length=len(arg)\n",
        "  print(arg[length-1])\n",
        "add(12,13,14,15,16)\n",
        "add(12,13,14,15)\n",
        "add(12,13,14)\n",
        "add(12,13)\n"
      ],
      "metadata": {
        "colab": {
          "base_uri": "https://localhost:8080/"
        },
        "id": "K1ZnF787FA2I",
        "outputId": "41529f16-de4a-4701-8dee-9ba0359fda26"
      },
      "execution_count": 21,
      "outputs": [
        {
          "output_type": "stream",
          "name": "stdout",
          "text": [
            "16\n",
            "15\n",
            "14\n",
            "13\n"
          ]
        }
      ]
    },
    {
      "cell_type": "code",
      "source": [
        "\n"
      ],
      "metadata": {
        "id": "oIOi3JtyGgiy"
      },
      "execution_count": null,
      "outputs": []
    },
    {
      "cell_type": "code",
      "source": [
        "def sum(num1,num2):\n",
        "  c=num1+num2\n",
        "  print(c)\n",
        "x=input('enter a value')\n",
        "x=int(x)\n",
        "y=input('enter a value')\n",
        "y=int(y)\n",
        "sum(x,y)\n",
        "\n",
        "a=input('enter a value')\n",
        "a=int(a)\n",
        "b=input('enter a value')\n",
        "b=int(b)\n",
        "sum(a,b)\n"
      ],
      "metadata": {
        "colab": {
          "base_uri": "https://localhost:8080/"
        },
        "id": "GtIvnli4JaBj",
        "outputId": "4f6eb95d-b78b-4395-e2f0-5aa91f8f40e1"
      },
      "execution_count": 25,
      "outputs": [
        {
          "output_type": "stream",
          "name": "stdout",
          "text": [
            "enter a value10\n",
            "enter a value20\n",
            "30\n",
            "enter a value40\n",
            "enter a value50\n",
            "90\n"
          ]
        }
      ]
    }
  ]
}