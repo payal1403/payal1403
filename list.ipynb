{
  "nbformat": 4,
  "nbformat_minor": 0,
  "metadata": {
    "colab": {
      "provenance": [],
      "authorship_tag": "ABX9TyOkU45w4i1I+xmwAJSkSpve",
      "include_colab_link": true
    },
    "kernelspec": {
      "name": "python3",
      "display_name": "Python 3"
    },
    "language_info": {
      "name": "python"
    }
  },
  "cells": [
    {
      "cell_type": "markdown",
      "metadata": {
        "id": "view-in-github",
        "colab_type": "text"
      },
      "source": [
        "<a href=\"https://colab.research.google.com/github/payal1403/payal1403/blob/pythonfile/list.ipynb\" target=\"_parent\"><img src=\"https://colab.research.google.com/assets/colab-badge.svg\" alt=\"Open In Colab\"/></a>"
      ]
    },
    {
      "cell_type": "code",
      "execution_count": 18,
      "metadata": {
        "colab": {
          "base_uri": "https://localhost:8080/"
        },
        "id": "cMjQLLyj-2v2",
        "outputId": "b58d7591-6543-4668-d32c-fd4e3326ea7a"
      },
      "outputs": [
        {
          "output_type": "stream",
          "name": "stdout",
          "text": [
            "['payal', 'zoo', 'neha', 'mansha']\n",
            "['payal', 'zoo', 'neha', 'mansha', 'khushi']\n",
            "['payal', 'zoo', 'neha', 'annu', 'mansha', 'khushi']\n",
            "['payal', 'neha', 'annu', 'mansha', 'khushi']\n",
            "['annu', 'mansha', 'khushi']\n",
            "mansha\n",
            "true\n"
          ]
        }
      ],
      "source": [
        "users=list((\"payal\",\"zoo\",\"neha\",\"mansha\"))\n",
        "print(users)\n",
        "users.append(\"khushi\")\n",
        "print(users)\n",
        "users.insert(3,\"annu\")\n",
        "print(users)\n",
        "users.remove(\"zoo\")\n",
        "print(users)\n",
        "print(users[2:5])\n",
        "print(users[3])\n",
        "if 'neha' in users:\n",
        "  print('true')\n",
        "else:\n",
        "  print('false')\n",
        "\n",
        "\n",
        "\n"
      ]
    },
    {
      "cell_type": "code",
      "source": [
        "fruits=list((\"apple\",\"banana\",\"mango\"))\n",
        "veges=list((\"potato\",\"tomato\",\"carrot\"))\n",
        "fruits.extend(veges)\n",
        "print(fruits)\n",
        "print(fruits.pop(5))\n",
        "print(fruits)"
      ],
      "metadata": {
        "colab": {
          "base_uri": "https://localhost:8080/"
        },
        "id": "GjvIQ8vvD3eP",
        "outputId": "7de2f635-3990-4917-c479-1ee0aadc9ca7"
      },
      "execution_count": 23,
      "outputs": [
        {
          "output_type": "stream",
          "name": "stdout",
          "text": [
            "['apple', 'banana', 'mango', 'potato', 'tomato', 'carrot']\n",
            "carrot\n",
            "['apple', 'banana', 'mango', 'potato', 'tomato']\n"
          ]
        }
      ]
    }
  ]
}