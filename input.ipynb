{
  "nbformat": 4,
  "nbformat_minor": 0,
  "metadata": {
    "colab": {
      "provenance": [],
      "authorship_tag": "ABX9TyOauzPkyCHIrSvzfIty3nRy",
      "include_colab_link": true
    },
    "kernelspec": {
      "name": "python3",
      "display_name": "Python 3"
    },
    "language_info": {
      "name": "python"
    }
  },
  "cells": [
    {
      "cell_type": "markdown",
      "metadata": {
        "id": "view-in-github",
        "colab_type": "text"
      },
      "source": [
        "<a href=\"https://colab.research.google.com/github/payal1403/payal1403/blob/pythonfile/input.ipynb\" target=\"_parent\"><img src=\"https://colab.research.google.com/assets/colab-badge.svg\" alt=\"Open In Colab\"/></a>"
      ]
    },
    {
      "cell_type": "code",
      "execution_count": 1,
      "metadata": {
        "colab": {
          "base_uri": "https://localhost:8080/"
        },
        "id": "okdO-6vl2y4y",
        "outputId": "11437396-85a8-43a8-c751-93d0a8edd214"
      },
      "outputs": [
        {
          "output_type": "stream",
          "name": "stdout",
          "text": [
            "enter a no:10\n",
            "enter a no:20\n",
            "False\n"
          ]
        }
      ],
      "source": [
        "a=input('enter a no:')\n",
        "a=int(a)\n",
        "b=input('enter a no:')\n",
        "b=int(b)\n",
        "c=bool(a==b)\n",
        "print(c)"
      ]
    }
  ]
}