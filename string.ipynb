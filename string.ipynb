{
  "nbformat": 4,
  "nbformat_minor": 0,
  "metadata": {
    "colab": {
      "provenance": [],
      "authorship_tag": "ABX9TyPlQL1JOrAjsDLKAImomZDK",
      "include_colab_link": true
    },
    "kernelspec": {
      "name": "python3",
      "display_name": "Python 3"
    },
    "language_info": {
      "name": "python"
    }
  },
  "cells": [
    {
      "cell_type": "markdown",
      "metadata": {
        "id": "view-in-github",
        "colab_type": "text"
      },
      "source": [
        "<a href=\"https://colab.research.google.com/github/payal1403/payal1403/blob/pythonfile/string.ipynb\" target=\"_parent\"><img src=\"https://colab.research.google.com/assets/colab-badge.svg\" alt=\"Open In Colab\"/></a>"
      ]
    },
    {
      "cell_type": "code",
      "execution_count": 3,
      "metadata": {
        "colab": {
          "base_uri": "https://localhost:8080/"
        },
        "id": "M_R16v1OGTFk",
        "outputId": "12246936-e964-4378-efc1-21172f4f9345"
      },
      "outputs": [
        {
          "output_type": "stream",
          "name": "stdout",
          "text": [
            "prime no between 1 and 15 are\n",
            "2\n",
            "3\n",
            "5\n",
            "7\n",
            "11\n",
            "13\n"
          ]
        }
      ],
      "source": [
        "a=1\n",
        "b=15\n",
        "print(\"prime no between\",a,\"and\",b,\"are\")\n",
        "\n",
        "for num in range(a,b+1):\n",
        "  if num>1:\n",
        "    for i in range(2,num):\n",
        "      if (num%i)==0:\n",
        "        break\n",
        "    else:\n",
        "        print(num)"
      ]
    },
    {
      "cell_type": "code",
      "source": [
        "a=input('enter a value')\n",
        "a=int(a)\n",
        "\n",
        "factorial=1\n",
        "\n",
        "while (a>0):\n",
        "  factorial=factorial*a\n",
        "  a=a-1\n",
        "print(\"factorial=\",factorial)"
      ],
      "metadata": {
        "colab": {
          "base_uri": "https://localhost:8080/"
        },
        "id": "yKH2ESeUHi-1",
        "outputId": "d9d6f0b1-4651-4bf6-ff41-b5309118abd8"
      },
      "execution_count": 6,
      "outputs": [
        {
          "output_type": "stream",
          "name": "stdout",
          "text": [
            "enter a value5\n",
            "factorial= 120\n"
          ]
        }
      ]
    },
    {
      "cell_type": "code",
      "source": [
        "a=1\n",
        "b=15\n",
        "print(\"prime no between\",a,\"and\",b,\"are\")\n",
        "\n",
        "for num in range(a,b+1):\n",
        "  if num>1:\n",
        "    for i in range(2,num):\n",
        "      if (num%i)==0:\n",
        "        break\n",
        "    else:\n",
        "        sum=7\n",
        "        if sum-1=="
      ],
      "metadata": {
        "id": "8mOLYrz1JXZw"
      },
      "execution_count": null,
      "outputs": []
    },
    {
      "cell_type": "code",
      "source": [
        "num=input('enter a value')\n",
        "num=int(num)\n",
        "sum=0\n",
        "\n",
        "temp=num\n",
        "\n",
        "while temp>0:\n",
        "  digit=temp%10\n",
        "  sum+=digit**3\n",
        "  temp//=10\n",
        "\n",
        "if num==sum:\n",
        "    print(num,\"is a armstrong no\")\n",
        "\n",
        "else:\n",
        "    print(num,\"is not a armstrong no\")"
      ],
      "metadata": {
        "colab": {
          "base_uri": "https://localhost:8080/"
        },
        "id": "US8Q5FKEK0pY",
        "outputId": "e30966b5-0a0b-4124-f86b-8802c4ff572a"
      },
      "execution_count": 13,
      "outputs": [
        {
          "output_type": "stream",
          "name": "stdout",
          "text": [
            "enter a value123\n",
            "123 is not a armstrong no\n"
          ]
        }
      ]
    },
    {
      "cell_type": "code",
      "source": [],
      "metadata": {
        "id": "xu796YjdObdu"
      },
      "execution_count": null,
      "outputs": []
    },
    {
      "cell_type": "code",
      "source": [
        "a=\"hello\"\n",
        "size=len(a)\n",
        "str=\"\"\n",
        "\n",
        "while size>0:\n",
        "  size-=1\n",
        "  str+=a[size]\n",
        "print(str)\n"
      ],
      "metadata": {
        "colab": {
          "base_uri": "https://localhost:8080/"
        },
        "id": "OI7yMksTObfd",
        "outputId": "62ca4ad0-9650-4819-a12e-0a11f2ecb2ec"
      },
      "execution_count": 20,
      "outputs": [
        {
          "output_type": "stream",
          "name": "stdout",
          "text": [
            "olleh\n"
          ]
        }
      ]
    },
    {
      "cell_type": "code",
      "source": [],
      "metadata": {
        "id": "xYooiFzCQrR8"
      },
      "execution_count": null,
      "outputs": []
    },
    {
      "cell_type": "code",
      "source": [
        "a=input('enter a string')\n",
        "size=len(a)\n",
        "str=\"\"\n",
        "\n",
        "while size>0:\n",
        "  size-=1\n",
        "  str+=a[size]\n",
        "print(str)\n"
      ],
      "metadata": {
        "colab": {
          "base_uri": "https://localhost:8080/"
        },
        "id": "z-KLj9N5QrTw",
        "outputId": "eba437e5-b397-4a49-9566-5b166f49bfed"
      },
      "execution_count": 22,
      "outputs": [
        {
          "output_type": "stream",
          "name": "stdout",
          "text": [
            "enter a stringmy name is payal\n",
            "layap si eman ym\n"
          ]
        }
      ]
    },
    {
      "cell_type": "code",
      "source": [
        "a=\"hello\"\n",
        "size=len(a)\n",
        "str=\"\"\n",
        "\n",
        "while size>-5:\n",
        "  size-=1\n",
        "  str+=a[size]\n",
        "print(str)\n"
      ],
      "metadata": {
        "colab": {
          "base_uri": "https://localhost:8080/"
        },
        "id": "JvKIvxqwS21e",
        "outputId": "a24e7ca0-8c76-46e8-e777-993e320b8dd1"
      },
      "execution_count": 26,
      "outputs": [
        {
          "output_type": "stream",
          "name": "stdout",
          "text": [
            "olleholle\n"
          ]
        }
      ]
    },
    {
      "cell_type": "code",
      "source": [
        "a=\"my name is payal\"\n",
        "x=a.split()\n",
        "print(x)\n",
        "\n",
        "y=(x[0])\n",
        "size=len(y)\n",
        "str=\"\"\n",
        "\n",
        "while size>0:\n",
        "  size-=1\n",
        "  str+=y[size]\n",
        "print(str)\n",
        "\n",
        "\n"
      ],
      "metadata": {
        "colab": {
          "base_uri": "https://localhost:8080/"
        },
        "id": "drDD9MTxUI7X",
        "outputId": "9b86829c-5755-47d2-a54a-2868f8219fb1"
      },
      "execution_count": 47,
      "outputs": [
        {
          "output_type": "stream",
          "name": "stdout",
          "text": [
            "['my', 'name', 'is', 'payal']\n",
            "ym\n"
          ]
        }
      ]
    }
  ]
}