{
  "nbformat": 4,
  "nbformat_minor": 0,
  "metadata": {
    "colab": {
      "provenance": [],
      "authorship_tag": "ABX9TyMffIqOl2ispP0sJUurOs6x",
      "include_colab_link": true
    },
    "kernelspec": {
      "name": "python3",
      "display_name": "Python 3"
    },
    "language_info": {
      "name": "python"
    }
  },
  "cells": [
    {
      "cell_type": "markdown",
      "metadata": {
        "id": "view-in-github",
        "colab_type": "text"
      },
      "source": [
        "<a href=\"https://colab.research.google.com/github/payal1403/payal1403/blob/pythonfile/lessthan10.ipynb\" target=\"_parent\"><img src=\"https://colab.research.google.com/assets/colab-badge.svg\" alt=\"Open In Colab\"/></a>"
      ]
    },
    {
      "cell_type": "code",
      "execution_count": null,
      "metadata": {
        "colab": {
          "base_uri": "https://localhost:8080/"
        },
        "id": "yKB1j19V37Fe",
        "outputId": "beca1665-58a5-4f78-ffe4-b459324a74a4"
      },
      "outputs": [
        {
          "output_type": "stream",
          "name": "stdout",
          "text": [
            "enter a value50\n",
            "<class 'str'>\n",
            "enter a value20\n",
            "sum of a and b is 70\n"
          ]
        }
      ],
      "source": [
        "a=input('enter a value')\n",
        "print(type(a))\n",
        "a=int(a)\n",
        "\n",
        "b=input('enter a value')\n",
        "b=int(b)\n",
        "c=a+b\n",
        "print(\"sum of a and b is\",c)"
      ]
    },
    {
      "cell_type": "code",
      "source": [],
      "metadata": {
        "id": "J8gjvv4O5owJ"
      },
      "execution_count": null,
      "outputs": []
    },
    {
      "cell_type": "code",
      "source": [
        "a=input('enter a value')\n",
        "a=int(a)\n",
        "if a>0:\n",
        "  print(\"it is a positive no.\")\n",
        "elif a<0:\n",
        "  print(\"it is a negative no.\")\n",
        "elif a==0:\n",
        "  print(\"a is zero\")"
      ],
      "metadata": {
        "colab": {
          "base_uri": "https://localhost:8080/"
        },
        "id": "vpaE20LN5oxa",
        "outputId": "ef269242-dd48-40bf-dff9-61e2245fc5f0"
      },
      "execution_count": 22,
      "outputs": [
        {
          "output_type": "stream",
          "name": "stdout",
          "text": [
            "enter a value-10\n",
            "it is a negative no.\n"
          ]
        }
      ]
    },
    {
      "cell_type": "code",
      "source": [
        "a=input('enter a value')\n",
        "a=int(a)\n",
        "\n",
        "if a%3==0:\n",
        "  print(\"a is divisible by 3\")\n",
        "else:\n",
        "    print(\"it is not divisible by 3\")\n",
        "\n",
        "if a%5==0:\n",
        "  print(\"a is divisible by 5\")\n",
        "else:\n",
        "  print(\"a is not divisible by 5\")\n",
        "\n",
        "if a%7==0:\n",
        "  print(\"a is divisible by 7\")\n",
        "else:\n",
        "  print(\"a is not divisible by 7\")\n"
      ],
      "metadata": {
        "colab": {
          "base_uri": "https://localhost:8080/"
        },
        "id": "dkVHdx2S8ad7",
        "outputId": "0b0cf59a-446c-420d-9e92-db87572153fa"
      },
      "execution_count": 27,
      "outputs": [
        {
          "output_type": "stream",
          "name": "stdout",
          "text": [
            "enter a value42\n",
            "a is divisible by 3\n",
            "a is not divisible by 5\n",
            "a is divisible by 7\n"
          ]
        }
      ]
    },
    {
      "cell_type": "code",
      "source": [
        "a=input('enter a value')\n",
        "a=int(a)\n",
        "if a<=10:\n",
        "  print(\"number is less than 10\")\n",
        "if a==1:\n",
        "    print(\"one\")\n",
        "elif a==2:\n",
        "    print(\"two\")\n",
        "elif a==3:\n",
        "    print(\"three\")\n",
        "elif a==4:\n",
        "    print(\"four\")\n",
        "elif a==5:\n",
        "    print(\"five\")\n",
        "elif a==6:\n",
        "    print(\"six\")\n",
        "elif a==7:\n",
        "    print(\"seven\")\n",
        "elif a==8:\n",
        "    print(\"eight\")\n",
        "elif a==9:\n",
        "    print(\"nine\")\n",
        "else:\n",
        "  print(\"a is greater than 10\")\n"
      ],
      "metadata": {
        "colab": {
          "base_uri": "https://localhost:8080/"
        },
        "id": "iOdbcRPIAiFM",
        "outputId": "f083ff38-92fb-45aa-d557-1ac869568253"
      },
      "execution_count": 37,
      "outputs": [
        {
          "output_type": "stream",
          "name": "stdout",
          "text": [
            "enter a value3\n",
            "number is less than 10\n",
            "three\n"
          ]
        }
      ]
    },
    {
      "cell_type": "code",
      "source": [
        "a=input(\"enter a value:\")\n",
        "a=int(a)\n",
        "b=input(\"enter a value:\")\n",
        "b=int(b)\n",
        "c=input(\"enter a value:\")\n",
        "c=int(c)\n",
        "if a>b and a>c:\n",
        " print(\"a is greater\")\n",
        "\n",
        "elif b>a and b>c:\n",
        "  print(\"b is greater\")\n",
        "\n",
        "elif c>a and c>b:\n",
        "   print(\"c is greater\")\n",
        "\n"
      ],
      "metadata": {
        "colab": {
          "base_uri": "https://localhost:8080/"
        },
        "id": "447mH_8Hvf82",
        "outputId": "504976c4-9088-4b7e-f749-c9428343076f"
      },
      "execution_count": null,
      "outputs": [
        {
          "output_type": "stream",
          "name": "stdout",
          "text": [
            "enter a value:50\n",
            "enter a value:38\n",
            "enter a value:96\n",
            "c is greater\n"
          ]
        }
      ]
    }
  ]
}