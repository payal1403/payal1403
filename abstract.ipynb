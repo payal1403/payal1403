{
  "nbformat": 4,
  "nbformat_minor": 0,
  "metadata": {
    "colab": {
      "provenance": [],
      "authorship_tag": "ABX9TyP8HIsGV5NdzOwH3Qd4aXKB",
      "include_colab_link": true
    },
    "kernelspec": {
      "name": "python3",
      "display_name": "Python 3"
    },
    "language_info": {
      "name": "python"
    }
  },
  "cells": [
    {
      "cell_type": "markdown",
      "metadata": {
        "id": "view-in-github",
        "colab_type": "text"
      },
      "source": [
        "<a href=\"https://colab.research.google.com/github/payal1403/payal1403/blob/pythonfile/abstract.ipynb\" target=\"_parent\"><img src=\"https://colab.research.google.com/assets/colab-badge.svg\" alt=\"Open In Colab\"/></a>"
      ]
    },
    {
      "cell_type": "code",
      "execution_count": 1,
      "metadata": {
        "colab": {
          "base_uri": "https://localhost:8080/"
        },
        "id": "skP_BF6P8iQf",
        "outputId": "036dabc6-5bb0-49a9-b071-59fb403012d6"
      },
      "outputs": [
        {
          "output_type": "stream",
          "name": "stdout",
          "text": [
            "sq has 4 sides\n"
          ]
        }
      ],
      "source": [
        "from abc import ABC,abstractmethod\n",
        "\n",
        "class shapes(ABC):\n",
        "  @abstractmethod\n",
        "  def sides(self):\n",
        "    pass\n",
        "\n",
        "class square(ABC):\n",
        "  def sides(self):\n",
        "    print(\"sq has 4 sides\")\n",
        "\n",
        "s=square()\n",
        "s.sides()"
      ]
    },
    {
      "cell_type": "code",
      "source": [
        "from abc import ABC,abstractmethod\n",
        "\n",
        "class shapes(ABC):\n",
        "  @abstractmethod\n",
        "  def sides(self):\n",
        "    pass\n",
        "\n",
        "class square(ABC):\n",
        "  def sides(self):\n",
        "    print(\"sq has 4 sides\")\n",
        "\n",
        "class triangle(ABC):\n",
        "  def sides(self):\n",
        "    print(\"triangle has 3 sides\")\n",
        "\n",
        "s=square()\n",
        "s.sides()\n",
        "\n",
        "t=triangle()\n",
        "t.sides()"
      ],
      "metadata": {
        "colab": {
          "base_uri": "https://localhost:8080/"
        },
        "id": "oiXWGjvi-y2v",
        "outputId": "0daceda5-6108-40af-e119-f7222de15657"
      },
      "execution_count": 4,
      "outputs": [
        {
          "output_type": "stream",
          "name": "stdout",
          "text": [
            "sq has 4 sides\n",
            "triangle has 3 sides\n"
          ]
        }
      ]
    },
    {
      "cell_type": "code",
      "source": [
        "\n"
      ],
      "metadata": {
        "id": "eeiQ5qAXBmhX"
      },
      "execution_count": null,
      "outputs": []
    }
  ]
}