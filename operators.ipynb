{
  "nbformat": 4,
  "nbformat_minor": 0,
  "metadata": {
    "colab": {
      "provenance": [],
      "authorship_tag": "ABX9TyO6K7i8Vq5eCZUwyPUXMkiQ",
      "include_colab_link": true
    },
    "kernelspec": {
      "name": "python3",
      "display_name": "Python 3"
    },
    "language_info": {
      "name": "python"
    }
  },
  "cells": [
    {
      "cell_type": "markdown",
      "metadata": {
        "id": "view-in-github",
        "colab_type": "text"
      },
      "source": [
        "<a href=\"https://colab.research.google.com/github/payal1403/payal1403/blob/pythonfile/operators.ipynb\" target=\"_parent\"><img src=\"https://colab.research.google.com/assets/colab-badge.svg\" alt=\"Open In Colab\"/></a>"
      ]
    },
    {
      "cell_type": "code",
      "execution_count": null,
      "metadata": {
        "colab": {
          "base_uri": "https://localhost:8080/"
        },
        "id": "DU_3yB5Mj7hB",
        "outputId": "9bfe8167-ae01-41b8-bf09-0135633bbcd3"
      },
      "outputs": [
        {
          "output_type": "stream",
          "name": "stdout",
          "text": [
            "enter the value of a:50\n",
            "enter the value of b:20\n",
            "sum 70\n",
            "product 1000\n",
            "subtract 30\n",
            "modulus 10\n"
          ]
        }
      ],
      "source": [
        "a=input('enter the value of a:')\n",
        "a=int(a)\n",
        "b=input('enter the value of b:')\n",
        "b=int(b)\n",
        "\n",
        "c=(a+b)\n",
        "d=(a*b)\n",
        "e=(a-b)\n",
        "f=(a%b)\n",
        "print('sum',c)\n",
        "print('product',d)\n",
        "print('subtract',e)\n",
        "print('modulus',f)\n",
        "\n"
      ]
    }
  ]
}