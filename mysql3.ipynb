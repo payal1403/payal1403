{
  "nbformat": 4,
  "nbformat_minor": 0,
  "metadata": {
    "colab": {
      "provenance": [],
      "authorship_tag": "ABX9TyMttrKD1XwNhuENZPJsKr/w",
      "include_colab_link": true
    },
    "kernelspec": {
      "name": "python3",
      "display_name": "Python 3"
    },
    "language_info": {
      "name": "python"
    }
  },
  "cells": [
    {
      "cell_type": "markdown",
      "metadata": {
        "id": "view-in-github",
        "colab_type": "text"
      },
      "source": [
        "<a href=\"https://colab.research.google.com/github/payal1403/payal1403/blob/pythonfile/mysql3.ipynb\" target=\"_parent\"><img src=\"https://colab.research.google.com/assets/colab-badge.svg\" alt=\"Open In Colab\"/></a>"
      ]
    },
    {
      "cell_type": "code",
      "source": [],
      "metadata": {
        "id": "oSVES062T1I9"
      },
      "execution_count": null,
      "outputs": []
    },
    {
      "cell_type": "code",
      "source": [
        "\n",
        "!apt-get -y install mysql-server\n",
        "!sudo service mysql status\n",
        "!sudo service   mysql start\n",
        "!pip install mysql-connector-python\n",
        "\n",
        "\n",
        "import mysql.connector\n",
        "\n",
        "# Create a connection to the MySQL server\n",
        "conn = mysql.connector.connect(user='root', password='root', unix_socket='/var/run/mysqld/mysqld.sock')\n",
        "\n",
        "# Create a cursor to interact with the MySQL server\n",
        "cursor = conn.cursor()\n",
        "\n",
        "# Create a new database named 'library'\n",
        "cursor.execute(\"CREATE DATABASE IF NOT EXISTS library\")\n",
        "\n",
        "# Switch to the 'library' database\n",
        "cursor.execute(\"USE library\")\n",
        "\n",
        "# Create the 'books' table\n",
        "cursor.execute('CREATE TABLE IF NOT EXISTS staff (id INT AUTO_INCREMENT PRIMARY KEY,name VARCHAR(255) NOT NULL,city CHAR(255) );')\n",
        "for i in range(5):\n",
        "\n",
        " s_id=input('id')\n",
        " s_name=input('name')\n",
        "s_city=input('city')\n",
        "\n",
        "\n",
        "\n",
        "\n",
        "cursor.execute(\"\"\"\n",
        "INSERT INTO staff (id, name, city) VALUES (%s, %s, %s)\n",
        "\"\"\",(s_id,s_name,s_city))\n",
        "\n",
        "# Commit the changes\n",
        "conn.commit()\n",
        "print('data entered')\n",
        "\n",
        "cursor.execute(\"select * from staff\")\n",
        "for row in cursor:\n",
        "  print(row)\n",
        "\n",
        "\n",
        "# Always remember to close the cursor and connection when done\n",
        "cursor.close()\n",
        "conn.close()\n",
        "\n",
        "\n",
        "\n"
      ],
      "metadata": {
        "colab": {
          "base_uri": "https://localhost:8080/"
        },
        "id": "6mzuhYC9GM9d",
        "outputId": "83a1b6f8-2612-4ca3-d916-5fbd7e374d18"
      },
      "execution_count": 30,
      "outputs": [
        {
          "output_type": "stream",
          "name": "stdout",
          "text": [
            "Reading package lists... Done\n",
            "Building dependency tree... Done\n",
            "Reading state information... Done\n",
            "mysql-server is already the newest version (8.0.36-0ubuntu0.22.04.1).\n",
            "0 upgraded, 0 newly installed, 0 to remove and 32 not upgraded.\n",
            " * /usr/bin/mysqladmin  Ver 8.0.36-0ubuntu0.22.04.1 for Linux on x86_64 ((Ubuntu))\n",
            "Copyright (c) 2000, 2024, Oracle and/or its affiliates.\n",
            "\n",
            "Oracle is a registered trademark of Oracle Corporation and/or its\n",
            "affiliates. Other names may be trademarks of their respective\n",
            "owners.\n",
            "\n",
            "Server version\t\t8.0.36-0ubuntu0.22.04.1\n",
            "Protocol version\t10\n",
            "Connection\t\tLocalhost via UNIX socket\n",
            "UNIX socket\t\t/var/run/mysqld/mysqld.sock\n",
            "Uptime:\t\t\t53 min 25 sec\n",
            "\n",
            "Threads: 3  Questions: 225  Slow queries: 0  Opens: 177  Flush tables: 3  Open tables: 96  Queries per second avg: 0.070\n",
            " * Starting MySQL database server mysqld\n",
            "   ...done.\n",
            "Requirement already satisfied: mysql-connector-python in /usr/local/lib/python3.10/dist-packages (8.3.0)\n",
            "id1\n",
            "namepayal\n",
            "cityjaipur\n",
            "id2\n",
            "nameneha\n",
            "cityjodhpur\n",
            "id3\n",
            "namekhushi\n",
            "cityraipur\n",
            "idmansvi\n",
            "namemansvi\n",
            "citykota\n",
            "id5\n",
            "namezoo\n",
            "citychina\n",
            "data entered\n",
            "(1, 'pau', 'jaipur')\n",
            "(2, 'isha', 'jaipur')\n",
            "(3, 'neha', 'jaipur')\n",
            "(5, 'zoo', 'china')\n"
          ]
        }
      ]
    }
  ]
}