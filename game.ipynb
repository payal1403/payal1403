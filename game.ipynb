{
  "nbformat": 4,
  "nbformat_minor": 0,
  "metadata": {
    "colab": {
      "provenance": [],
      "authorship_tag": "ABX9TyMBY8qnQ3NV81Ljfe2Q6bpY",
      "include_colab_link": true
    },
    "kernelspec": {
      "name": "python3",
      "display_name": "Python 3"
    },
    "language_info": {
      "name": "python"
    }
  },
  "cells": [
    {
      "cell_type": "markdown",
      "metadata": {
        "id": "view-in-github",
        "colab_type": "text"
      },
      "source": [
        "<a href=\"https://colab.research.google.com/github/payal1403/payal1403/blob/pythonfile/game.ipynb\" target=\"_parent\"><img src=\"https://colab.research.google.com/assets/colab-badge.svg\" alt=\"Open In Colab\"/></a>"
      ]
    },
    {
      "cell_type": "code",
      "execution_count": null,
      "metadata": {
        "colab": {
          "base_uri": "https://localhost:8080/"
        },
        "id": "tH7uYbd6gV_d",
        "outputId": "bc6b9d2c-5675-471e-acdc-4c435420f191"
      },
      "outputs": [
        {
          "output_type": "stream",
          "name": "stdout",
          "text": [
            "enter a string:payal\n",
            "enter a string:neha\n",
            "enter a string:zoo\n",
            "enter a string:\n",
            "user pressed enter\n",
            "['payal', 'neha', 'zoo']\n"
          ]
        }
      ],
      "source": [
        "my_list = []\n",
        "\n",
        "while True:\n",
        "  user_input = input('enter a string:')\n",
        "  if user_input == '':\n",
        "    print('user pressed enter')\n",
        "    break\n",
        "\n",
        "  my_list.append(user_input)\n",
        "print(my_list)"
      ]
    },
    {
      "cell_type": "code",
      "source": [
        "import random\n",
        "\n",
        "options=[\"Rock\",\"Paper\",\"Scissors\"]\n",
        "\n",
        "user_choice=input(\"Choose rock, paper,or scissors\").lower()\n",
        "computer_choice = random.choice(options).lower()\n",
        "\n",
        "print(\"you choose:\",user_choice)\n",
        "print(\"computer chose:\",computer_choice)\n",
        "\n",
        "if user_choice==computer_choice:\n",
        "  print(\"it is a tie!\")\n",
        "\n",
        "elif user_choice==\"Rock\" and computer_choice==\"Scissors\":\n",
        "  print(\"you win\")\n",
        "\n",
        "elif user_choice==\"Paper\" and computer_choice==\"Rock\":\n",
        "  print(\"you win\")\n",
        "elif user_choice==\"Scissors\" and computer_choice==\"Paper\":\n",
        "  print(\"you win\")\n",
        "else:\n",
        "  print(\"computer wins\")"
      ],
      "metadata": {
        "colab": {
          "base_uri": "https://localhost:8080/"
        },
        "id": "Vc6LnPPbinH8",
        "outputId": "46f79676-c69c-4197-9e06-78262babd406"
      },
      "execution_count": null,
      "outputs": [
        {
          "output_type": "stream",
          "name": "stdout",
          "text": [
            "Choose rock, paper,or scissorsROck\n",
            "you choose: rock\n",
            "computer chose: rock\n",
            "it is a tie!\n"
          ]
        }
      ]
    }
  ]
}