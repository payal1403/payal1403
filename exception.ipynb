{
  "nbformat": 4,
  "nbformat_minor": 0,
  "metadata": {
    "colab": {
      "provenance": [],
      "authorship_tag": "ABX9TyPlwQjfcwpd6kV1fcEaJPnf",
      "include_colab_link": true
    },
    "kernelspec": {
      "name": "python3",
      "display_name": "Python 3"
    },
    "language_info": {
      "name": "python"
    }
  },
  "cells": [
    {
      "cell_type": "markdown",
      "metadata": {
        "id": "view-in-github",
        "colab_type": "text"
      },
      "source": [
        "<a href=\"https://colab.research.google.com/github/payal1403/payal1403/blob/pythonfile/exception.ipynb\" target=\"_parent\"><img src=\"https://colab.research.google.com/assets/colab-badge.svg\" alt=\"Open In Colab\"/></a>"
      ]
    },
    {
      "cell_type": "code",
      "execution_count": 2,
      "metadata": {
        "colab": {
          "base_uri": "https://localhost:8080/"
        },
        "id": "TyyIxZt3WDXM",
        "outputId": "f58b441a-4de6-4f32-8613-7f55536d01d8"
      },
      "outputs": [
        {
          "output_type": "stream",
          "name": "stdout",
          "text": [
            "enter a variable10\n",
            "enter another variable2\n",
            "something\n"
          ]
        }
      ],
      "source": [
        "\n",
        "try:\n",
        "  x=input(\"enter a variable\")\n",
        "  x=int(x)\n",
        "  y=input(\"enter another variable\")\n",
        "  c=x+y\n",
        "  print(c)\n",
        "except:\n",
        "  print(\"something\")\n"
      ]
    },
    {
      "cell_type": "code",
      "source": [
        "try:\n",
        "  for i in range(1,5):\n",
        "    print(i)\n",
        "    if i>3:\n",
        "      raise Exception(\"number reach to 5\")\n",
        "except Exception as x:\n",
        "  print(x)"
      ],
      "metadata": {
        "colab": {
          "base_uri": "https://localhost:8080/"
        },
        "id": "-xz563M5Z6lv",
        "outputId": "45172d73-c678-421d-9fc6-0611b50233cb"
      },
      "execution_count": 7,
      "outputs": [
        {
          "output_type": "stream",
          "name": "stdout",
          "text": [
            "1\n",
            "2\n",
            "3\n",
            "4\n",
            "number reach to 5\n"
          ]
        }
      ]
    },
    {
      "cell_type": "code",
      "source": [
        "x=input('enter a value')\n",
        "x=int(x)\n",
        "try :\n",
        "  x>10\n",
        "except:\n",
        "  print(\"something went wrong\")\n",
        "\n",
        "else:\n",
        "  print(\"all ohk\")\n",
        "finally:\n",
        "  print(\"execution completed\")"
      ],
      "metadata": {
        "colab": {
          "base_uri": "https://localhost:8080/"
        },
        "id": "Jw4XtO-cdSFh",
        "outputId": "d9321d4d-5502-4b18-9a29-ac4000a6a668"
      },
      "execution_count": 11,
      "outputs": [
        {
          "output_type": "stream",
          "name": "stdout",
          "text": [
            "enter a value1\n",
            "all ohk\n",
            "execution completed\n"
          ]
        }
      ]
    }
  ]
}